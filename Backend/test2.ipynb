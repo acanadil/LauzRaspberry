{
 "cells": [
  {
   "cell_type": "code",
   "execution_count": 122,
   "metadata": {},
   "outputs": [],
   "source": [
    "from azure.iot.device import IoTHubDeviceClient, Message\n",
    "from datetime import datetime\n",
    "import json"
   ]
  },
  {
   "cell_type": "code",
   "execution_count": 156,
   "metadata": {},
   "outputs": [],
   "source": [
    "CONNECTION_STRING = \"HostName=ra-develop-bobstconnect-01.azure-devices.net;DeviceId=LAUZHACKPI1;SharedAccessKey=YXBIJtM6Pp4m4VumdPJjxXJqXLnCpjJFxAIoTMQBSV8=\"\n",
    "\n",
    "# Create an IoT Hub device client\n",
    "device_client = IoTHubDeviceClient.create_from_connection_string(CONNECTION_STRING)\n",
    "device_client.connect()"
   ]
  },
  {
   "cell_type": "code",
   "execution_count": 150,
   "metadata": {},
   "outputs": [
    {
     "name": "stderr",
     "output_type": "stream",
     "text": [
      "/tmp/ipykernel_113228/3914915554.py:2: DeprecationWarning: datetime.datetime.utcnow() is deprecated and scheduled for removal in a future version. Use timezone-aware objects to represent datetimes in UTC: datetime.datetime.now(datetime.UTC).\n",
      "  timestamp = datetime.utcnow().strftime('%Y-%m-%dT%H:%M:%S.') + str(int(datetime.utcnow().microsecond / 1000)).zfill(3) + 'Z'\n"
     ]
    }
   ],
   "source": [
    "# Create a dictionary with the data you want to send\n",
    "timestamp = datetime.utcnow().strftime('%Y-%m-%dT%H:%M:%S.') + str(int(datetime.utcnow().microsecond / 1000)).zfill(3) + 'Z'\n",
    "\n",
    "start = {\n",
    "    \"timestamp\": timestamp,\n",
    "    \"type\": \"startProducing\",\n",
    "    \"jobId\": \"hola\",\n",
    "    \"equipmentId\": \"lauzhack-pi1\",\n",
    "    \"jobInputUnitCount\": 10,\n",
    "    \"jobOutputUnitCount\": 0,\n",
    "    \"totalOutputUnitCount\": 1000,\n",
    "    \"totalProductionTime\": 0\n",
    "}\n",
    "\n",
    "stop = {\n",
    "    \"timestamp\": timestamp,\n",
    "    \"type\": \"stopProducing\",\n",
    "    \"equipmentId\": \"lauzhack-pi1\",\n",
    "    \"jobId\": \"hola\",\n",
    "    \"jobInputUnitCount\": 10,\n",
    "    \"jobOutputUnitCount\": 20,\n",
    "    \"totalOutputUnitCount\": 20,\n",
    "    \"totalProductionTime\": 1\n",
    "}\n",
    "\n",
    "test = {\n",
    "    \"timestamp\" : timestamp,\n",
    "    \"type\": \"newJob\",\n",
    "    \"equipmentId\": \"lauzhack-pi1\",\n",
    "    \"jobId\": \"test_run1\",\n",
    "    \"jobName\": \"nom\",\n",
    "    \"jobRef\": \"dewRef\",\n",
    "    \"recipeId\": \"id\",\n",
    "    \"recipeName\": \"namere\",\n",
    "    \"recipeNumber\": \"123\",\n",
    "    \"targetSpeed\": 0.75,\n",
    "    \"jobBadUnitCount\": 11\n",
    "}\n",
    "\n",
    "data = {\n",
    "    \"type\": \"newJob\",\n",
    "    \"equipmentId\": \"lauzhack-pi1\",\n",
    "    \"jobId\": \"hola\",\n",
    "    \"totaloutputunitcount\": 333,\n",
    "    \"totalRunningTime\": 152306,\n",
    "    \"machinespeed\": 0.5,\n",
    "    \"timestamp\": timestamp\n",
    "}\n",
    "\n",
    "message = [{\n",
    "    \"type\": \"event_type\",\n",
    "    \"equipmentId\": \"lauzhack-pi1\",\n",
    "    \"jobId\": 1234,\n",
    "    \"totalOutputUnitCount\": 12345,\n",
    "    \"machineSpeed\": 1,\n",
    "    \"timestamp\": timestamp\n",
    "}]\n",
    "\n",
    "# Convert the dictionary to a JSON string\n",
    "json_data = json.dumps([stop])\n",
    "\n",
    "# Create a message with the JSON data\n",
    "message = Message(json_data)\n",
    "\n",
    "message.content_type = \"application/json\"\n",
    "message.content_encoding = \"utf-8\"\n",
    "message.custom_properties[\"messageType\"] = \"MachineEvent\"\n",
    "\n"
   ]
  },
  {
   "cell_type": "code",
   "execution_count": 132,
   "metadata": {},
   "outputs": [
    {
     "name": "stderr",
     "output_type": "stream",
     "text": [
      "/tmp/ipykernel_113228/2812018692.py:2: DeprecationWarning: datetime.datetime.utcnow() is deprecated and scheduled for removal in a future version. Use timezone-aware objects to represent datetimes in UTC: datetime.datetime.now(datetime.UTC).\n",
      "  timestamp = datetime.utcnow().strftime('%Y-%m-%dT%H:%M:%S.') + str(int(datetime.utcnow().microsecond / 1000)).zfill(3) + 'Z'\n"
     ]
    },
    {
     "data": {
      "text/plain": [
       "'{\"telemetry\": {\"machineid\": \"lauzhack-pi1\", \"datasource\": \"172.20.2.5:80\", \"timestamp\": \"2024-11-30T22:46:08.804Z\", \"machinespeed\": 1, \"totaloutputunitcount\": 10}}'"
      ]
     },
     "execution_count": 132,
     "metadata": {},
     "output_type": "execute_result"
    }
   ],
   "source": [
    "# Create a dictionary with the data you want to send\n",
    "timestamp = datetime.utcnow().strftime('%Y-%m-%dT%H:%M:%S.') + str(int(datetime.utcnow().microsecond / 1000)).zfill(3) + 'Z'\n",
    "\n",
    "data = {\n",
    "    \"telemetry\" : {\n",
    "        \"machineid\": \"lauzhack-pi1\",\n",
    "        \"datasource\": \"172.20.2.5:80\",\n",
    "        \"timestamp\": timestamp,\n",
    "        \"machinespeed\" : 1,\n",
    "        \"totaloutputunitcount\" : 10\n",
    "    }\n",
    "}\n",
    "\n",
    "# Convert the dictionary to a JSON string\n",
    "json_data = json.dumps(data)\n",
    "\n",
    "# Create a message with the JSON data\n",
    "message = Message(json_data)\n",
    "\n",
    "message.content_type = \"application/json\"\n",
    "message.content_encoding = \"utf-8\"\n",
    "message.custom_properties[\"messageType\"] = \"Telemetry\"\n",
    "\n",
    "json_data"
   ]
  },
  {
   "cell_type": "code",
   "execution_count": 157,
   "metadata": {},
   "outputs": [
    {
     "name": "stdout",
     "output_type": "stream",
     "text": [
      "Sending JSON message to IoT Hub...\n",
      "[{\"timestamp\": \"2024-11-30T23:38:53.894Z\", \"type\": \"stopProducing\", \"equipmentId\": \"lauzhack-pi1\", \"jobId\": \"hola\", \"jobInputUnitCount\": 10, \"jobOutputUnitCount\": 20, \"totalOutputUnitCount\": 20, \"totalProductionTime\": 1}]\n"
     ]
    },
    {
     "ename": "NoConnectionError",
     "evalue": "Client is not connected to IoTHub",
     "output_type": "error",
     "traceback": [
      "\u001b[0;31m---------------------------------------------------------------------------\u001b[0m",
      "\u001b[0;31mNoConnectionError\u001b[0m                         Traceback (most recent call last)",
      "File \u001b[0;32m~/Documents/LauzHack/LauzRaspberry/.venv/lib/python3.12/site-packages/azure/iot/device/iothub/sync_clients.py:36\u001b[0m, in \u001b[0;36mhandle_result\u001b[0;34m(callback)\u001b[0m\n\u001b[1;32m     35\u001b[0m \u001b[38;5;28;01mtry\u001b[39;00m:\n\u001b[0;32m---> 36\u001b[0m     \u001b[38;5;28;01mreturn\u001b[39;00m \u001b[43mcallback\u001b[49m\u001b[38;5;241;43m.\u001b[39;49m\u001b[43mwait_for_completion\u001b[49m\u001b[43m(\u001b[49m\u001b[43m)\u001b[49m\n\u001b[1;32m     37\u001b[0m \u001b[38;5;28;01mexcept\u001b[39;00m pipeline_exceptions\u001b[38;5;241m.\u001b[39mConnectionDroppedError \u001b[38;5;28;01mas\u001b[39;00m e:\n",
      "File \u001b[0;32m~/Documents/LauzHack/LauzRaspberry/.venv/lib/python3.12/site-packages/azure/iot/device/common/evented_callback.py:69\u001b[0m, in \u001b[0;36mEventedCallback.wait_for_completion\u001b[0;34m(self, *args, **kwargs)\u001b[0m\n\u001b[1;32m     68\u001b[0m \u001b[38;5;28;01mif\u001b[39;00m \u001b[38;5;28mself\u001b[39m\u001b[38;5;241m.\u001b[39mexception:\n\u001b[0;32m---> 69\u001b[0m     \u001b[38;5;28;01mraise\u001b[39;00m \u001b[38;5;28mself\u001b[39m\u001b[38;5;241m.\u001b[39mexception\n\u001b[1;32m     70\u001b[0m \u001b[38;5;28;01melse\u001b[39;00m:\n",
      "File \u001b[0;32m~/Documents/LauzHack/LauzRaspberry/.venv/lib/python3.12/site-packages/azure/iot/device/common/pipeline/pipeline_stages_mqtt.py:278\u001b[0m, in \u001b[0;36mMQTTTransportStage._run_op\u001b[0;34m(self, op)\u001b[0m\n\u001b[1;32m    277\u001b[0m \u001b[38;5;28;01mtry\u001b[39;00m:\n\u001b[0;32m--> 278\u001b[0m     \u001b[38;5;28;43mself\u001b[39;49m\u001b[38;5;241;43m.\u001b[39;49m\u001b[43mtransport\u001b[49m\u001b[38;5;241;43m.\u001b[39;49m\u001b[43mpublish\u001b[49m\u001b[43m(\u001b[49m\u001b[43mtopic\u001b[49m\u001b[38;5;241;43m=\u001b[39;49m\u001b[43mop\u001b[49m\u001b[38;5;241;43m.\u001b[39;49m\u001b[43mtopic\u001b[49m\u001b[43m,\u001b[49m\u001b[43m \u001b[49m\u001b[43mpayload\u001b[49m\u001b[38;5;241;43m=\u001b[39;49m\u001b[43mop\u001b[49m\u001b[38;5;241;43m.\u001b[39;49m\u001b[43mpayload\u001b[49m\u001b[43m,\u001b[49m\u001b[43m \u001b[49m\u001b[43mcallback\u001b[49m\u001b[38;5;241;43m=\u001b[39;49m\u001b[43mon_complete\u001b[49m\u001b[43m)\u001b[49m\n\u001b[1;32m    279\u001b[0m \u001b[38;5;28;01mexcept\u001b[39;00m \u001b[38;5;167;01mException\u001b[39;00m \u001b[38;5;28;01mas\u001b[39;00m e:\n",
      "File \u001b[0;32m~/Documents/LauzHack/LauzRaspberry/.venv/lib/python3.12/site-packages/azure/iot/device/common/mqtt_transport.py:553\u001b[0m, in \u001b[0;36mMQTTTransport.publish\u001b[0;34m(self, topic, payload, qos, callback)\u001b[0m\n\u001b[1;32m    551\u001b[0m \u001b[38;5;28;01mif\u001b[39;00m rc:\n\u001b[1;32m    552\u001b[0m     \u001b[38;5;66;03m# This could result in ConnectionDroppedError or ProtocolClientError\u001b[39;00m\n\u001b[0;32m--> 553\u001b[0m     \u001b[38;5;28;01mraise\u001b[39;00m _create_error_from_rc_code(rc)\n\u001b[1;32m    554\u001b[0m \u001b[38;5;28mself\u001b[39m\u001b[38;5;241m.\u001b[39m_op_manager\u001b[38;5;241m.\u001b[39mestablish_operation(mid, callback)\n",
      "\u001b[0;31mNoConnectionError\u001b[0m: The client is not currently connected.",
      "\nThe above exception was the direct cause of the following exception:\n",
      "\u001b[0;31mNoConnectionError\u001b[0m                         Traceback (most recent call last)",
      "Cell \u001b[0;32mIn[157], line 4\u001b[0m\n\u001b[1;32m      2\u001b[0m \u001b[38;5;28mprint\u001b[39m(\u001b[38;5;124m\"\u001b[39m\u001b[38;5;124mSending JSON message to IoT Hub...\u001b[39m\u001b[38;5;124m\"\u001b[39m)\n\u001b[1;32m      3\u001b[0m \u001b[38;5;28mprint\u001b[39m(message)\n\u001b[0;32m----> 4\u001b[0m \u001b[43mdevice_client\u001b[49m\u001b[38;5;241;43m.\u001b[39;49m\u001b[43msend_message\u001b[49m\u001b[43m(\u001b[49m\u001b[43mmessage\u001b[49m\u001b[43m)\u001b[49m\n\u001b[1;32m      5\u001b[0m \u001b[38;5;28mprint\u001b[39m(\u001b[38;5;124m\"\u001b[39m\u001b[38;5;124mMessage sent!\u001b[39m\u001b[38;5;124m\"\u001b[39m)\n",
      "File \u001b[0;32m~/Documents/LauzHack/LauzRaspberry/.venv/lib/python3.12/site-packages/azure/iot/device/patch_documentation.py:60\u001b[0m, in \u001b[0;36mexecute_patch_for_sync.<locals>.send_message\u001b[0;34m(self, message)\u001b[0m\n\u001b[1;32m     59\u001b[0m \u001b[38;5;28;01mdef\u001b[39;00m \u001b[38;5;21msend_message\u001b[39m(\u001b[38;5;28mself\u001b[39m, message):\n\u001b[0;32m---> 60\u001b[0m     \u001b[38;5;28;01mreturn\u001b[39;00m \u001b[38;5;28;43msuper\u001b[39;49m\u001b[43m(\u001b[49m\u001b[43mIoTHubDeviceClient\u001b[49m\u001b[43m,\u001b[49m\u001b[43m \u001b[49m\u001b[38;5;28;43mself\u001b[39;49m\u001b[43m)\u001b[49m\u001b[38;5;241;43m.\u001b[39;49m\u001b[43msend_message\u001b[49m\u001b[43m(\u001b[49m\u001b[43mmessage\u001b[49m\u001b[43m)\u001b[49m\n",
      "File \u001b[0;32m~/Documents/LauzHack/LauzRaspberry/.venv/lib/python3.12/site-packages/azure/iot/device/iothub/sync_clients.py:353\u001b[0m, in \u001b[0;36mGenericIoTHubClient.send_message\u001b[0;34m(self, message)\u001b[0m\n\u001b[1;32m    351\u001b[0m callback \u001b[38;5;241m=\u001b[39m EventedCallback()\n\u001b[1;32m    352\u001b[0m \u001b[38;5;28mself\u001b[39m\u001b[38;5;241m.\u001b[39m_mqtt_pipeline\u001b[38;5;241m.\u001b[39msend_message(message, callback\u001b[38;5;241m=\u001b[39mcallback)\n\u001b[0;32m--> 353\u001b[0m \u001b[43mhandle_result\u001b[49m\u001b[43m(\u001b[49m\u001b[43mcallback\u001b[49m\u001b[43m)\u001b[49m\n\u001b[1;32m    355\u001b[0m logger\u001b[38;5;241m.\u001b[39minfo(\u001b[38;5;124m\"\u001b[39m\u001b[38;5;124mSuccessfully sent message to Hub\u001b[39m\u001b[38;5;124m\"\u001b[39m)\n",
      "File \u001b[0;32m~/Documents/LauzHack/LauzRaspberry/.venv/lib/python3.12/site-packages/azure/iot/device/iothub/sync_clients.py:42\u001b[0m, in \u001b[0;36mhandle_result\u001b[0;34m(callback)\u001b[0m\n\u001b[1;32m     40\u001b[0m     \u001b[38;5;28;01mraise\u001b[39;00m exceptions\u001b[38;5;241m.\u001b[39mConnectionFailedError(\u001b[38;5;124m\"\u001b[39m\u001b[38;5;124mCould not connect to IoTHub\u001b[39m\u001b[38;5;124m\"\u001b[39m) \u001b[38;5;28;01mfrom\u001b[39;00m \u001b[38;5;21;01me\u001b[39;00m\n\u001b[1;32m     41\u001b[0m \u001b[38;5;28;01mexcept\u001b[39;00m pipeline_exceptions\u001b[38;5;241m.\u001b[39mNoConnectionError \u001b[38;5;28;01mas\u001b[39;00m e:\n\u001b[0;32m---> 42\u001b[0m     \u001b[38;5;28;01mraise\u001b[39;00m exceptions\u001b[38;5;241m.\u001b[39mNoConnectionError(\u001b[38;5;124m\"\u001b[39m\u001b[38;5;124mClient is not connected to IoTHub\u001b[39m\u001b[38;5;124m\"\u001b[39m) \u001b[38;5;28;01mfrom\u001b[39;00m \u001b[38;5;21;01me\u001b[39;00m\n\u001b[1;32m     43\u001b[0m \u001b[38;5;28;01mexcept\u001b[39;00m pipeline_exceptions\u001b[38;5;241m.\u001b[39mUnauthorizedError \u001b[38;5;28;01mas\u001b[39;00m e:\n\u001b[1;32m     44\u001b[0m     \u001b[38;5;28;01mraise\u001b[39;00m exceptions\u001b[38;5;241m.\u001b[39mCredentialError(\u001b[38;5;124m\"\u001b[39m\u001b[38;5;124mCredentials invalid, could not connect\u001b[39m\u001b[38;5;124m\"\u001b[39m) \u001b[38;5;28;01mfrom\u001b[39;00m \u001b[38;5;21;01me\u001b[39;00m\n",
      "\u001b[0;31mNoConnectionError\u001b[0m: Client is not connected to IoTHub"
     ]
    }
   ],
   "source": [
    "# Send the message\n",
    "print(\"Sending JSON message to IoT Hub...\")\n",
    "print(message)\n",
    "device_client.send_message(message)\n",
    "print(\"Message sent!\")"
   ]
  },
  {
   "cell_type": "code",
   "execution_count": 143,
   "metadata": {},
   "outputs": [],
   "source": [
    "device_client.disconnect()"
   ]
  }
 ],
 "metadata": {
  "kernelspec": {
   "display_name": ".venv",
   "language": "python",
   "name": "python3"
  },
  "language_info": {
   "codemirror_mode": {
    "name": "ipython",
    "version": 3
   },
   "file_extension": ".py",
   "mimetype": "text/x-python",
   "name": "python",
   "nbconvert_exporter": "python",
   "pygments_lexer": "ipython3",
   "version": "3.12.3"
  }
 },
 "nbformat": 4,
 "nbformat_minor": 2
}
