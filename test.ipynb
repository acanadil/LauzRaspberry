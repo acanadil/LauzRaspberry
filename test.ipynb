{
 "cells": [
  {
   "cell_type": "code",
   "execution_count": 1,
   "metadata": {},
   "outputs": [],
   "source": [
    "from azure.iot.device import IoTHubDeviceClient, Message\n",
    "from datetime import datetime\n",
    "import json\n"
   ]
  },
  {
   "cell_type": "code",
   "execution_count": 21,
   "metadata": {},
   "outputs": [],
   "source": [
    "CONNECTION_STRING = \"HostName=ra-develop-bobstconnect-01.azure-devices.net;DeviceId=LAUZHACKPI1;SharedAccessKey=YXBIJtM6Pp4m4VumdPJjxXJqXLnCpjJFxAIoTMQBSV8=\"\n",
    "\n",
    "# Create an IoT Hub device client\n",
    "device_client = IoTHubDeviceClient.create_from_connection_string(CONNECTION_STRING)\n",
    "device_client.connect()"
   ]
  },
  {
   "cell_type": "code",
   "execution_count": 22,
   "metadata": {},
   "outputs": [
    {
     "name": "stderr",
     "output_type": "stream",
     "text": [
      "/tmp/ipykernel_114268/740799052.py:2: DeprecationWarning: datetime.datetime.utcnow() is deprecated and scheduled for removal in a future version. Use timezone-aware objects to represent datetimes in UTC: datetime.datetime.now(datetime.UTC).\n",
      "  timestamp = datetime.utcnow().strftime('%Y-%m-%dT%H:%M:%S.') + str(int(datetime.utcnow().microsecond / 1000)).zfill(3) + 'Z'\n"
     ]
    },
    {
     "data": {
      "text/plain": [
       "'{\"telemetry\": {\"machineid\": \"lauzhack-pi1\", \"datasource\": \"172.20.2.5:80\", \"timestamp\": \"2024-11-30T21:11:52.381Z\", \"machinespeed\": 0.33, \"totaloutputunitcount\": 33}}'"
      ]
     },
     "execution_count": 22,
     "metadata": {},
     "output_type": "execute_result"
    }
   ],
   "source": [
    "# Create a dictionary with the data you want to send\n",
    "timestamp = datetime.utcnow().strftime('%Y-%m-%dT%H:%M:%S.') + str(int(datetime.utcnow().microsecond / 1000)).zfill(3) + 'Z'\n",
    "\n",
    "data = {\n",
    "    \"telemetry\" : {\n",
    "        \"machineid\": \"lauzhack-pi1\",\n",
    "        \"datasource\": \"172.20.2.5:80\",\n",
    "        \"timestamp\": timestamp,\n",
    "        \"machinespeed\" : 0.33,\n",
    "        \"totaloutputunitcount\" : 33\n",
    "    }\n",
    "}\n",
    "\n",
    "# Convert the dictionary to a JSON string\n",
    "json_data = json.dumps(data)\n",
    "\n",
    "# Create a message with the JSON data\n",
    "message = Message(json_data)\n",
    "\n",
    "message.content_type = \"application/json\"\n",
    "message.content_encoding = \"utf-8\"\n",
    "message.custom_properties[\"messageType\"] = \"Telemetry\"\n",
    "\n",
    "json_data"
   ]
  },
  {
   "cell_type": "code",
   "execution_count": 23,
   "metadata": {},
   "outputs": [
    {
     "name": "stdout",
     "output_type": "stream",
     "text": [
      "Sending JSON message to IoT Hub...\n",
      "Message sent!\n"
     ]
    }
   ],
   "source": [
    "# Send the message\n",
    "print(\"Sending JSON message to IoT Hub...\")\n",
    "device_client.send_message(message)\n",
    "print(\"Message sent!\")"
   ]
  },
  {
   "cell_type": "code",
   "execution_count": 29,
   "metadata": {},
   "outputs": [],
   "source": [
    "device_client.disconnect()"
   ]
  }
 ],
 "metadata": {
  "kernelspec": {
   "display_name": ".venv",
   "language": "python",
   "name": "python3"
  },
  "language_info": {
   "codemirror_mode": {
    "name": "ipython",
    "version": 3
   },
   "file_extension": ".py",
   "mimetype": "text/x-python",
   "name": "python",
   "nbconvert_exporter": "python",
   "pygments_lexer": "ipython3",
   "version": "3.12.3"
  }
 },
 "nbformat": 4,
 "nbformat_minor": 2
}
